{
 "cells": [
  {
   "cell_type": "markdown",
   "id": "80cfe6fe-acca-4f78-84ef-ebe326af2327",
   "metadata": {},
   "source": [
    "# Data Science Tools and Ecosystem\n"
   ]
  },
  {
   "cell_type": "markdown",
   "id": "cfc9d2c9-facd-41a7-b264-b1add351d91b",
   "metadata": {},
   "source": [
    "In this notebook, Data Science Tools and Ecosystem are summarized.\n"
   ]
  },
  {
   "cell_type": "markdown",
   "id": "3a7b8fb1-1458-4c4a-895c-813976966b78",
   "metadata": {},
   "source": [
    "Some of the popular languages that Data Scientists use are:\n",
    "1. Python\n",
    "2. R\n",
    "3. SQL\n"
   ]
  },
  {
   "cell_type": "markdown",
   "id": "7828c153-acdc-45cf-947c-f53800c024fa",
   "metadata": {},
   "source": [
    "Some of the commonly used libraries used by Data Scientists include:\n",
    "1. pandas - for data manipulation and analysis\n",
    "2. NumPy - for numerical computing with Python\n",
    "3. Matplotlib - for creating static, interactive, and animated visualizations in Python\n"
   ]
  },
  {
   "cell_type": "markdown",
   "id": "30cf9ca2-53ea-4df2-83d3-2defce5115a8",
   "metadata": {},
   "source": [
    "| Data Science Tools |\n",
    "|--------------------|\n",
    "| Jupyter Notebooks  |\n",
    "| RStudio            |\n",
    "| Apache Zeppelin    |\n"
   ]
  },
  {
   "cell_type": "markdown",
   "id": "61f2f4f7-aceb-4ad6-af2c-4c8713fb692b",
   "metadata": {},
   "source": [
    "### Below are a few examples of evaluating arithmetic expressions in Python.\n"
   ]
  },
  {
   "cell_type": "code",
   "execution_count": 2,
   "id": "45448ca9-c466-4a4d-8554-34809b2e6e10",
   "metadata": {},
   "outputs": [
    {
     "data": {
      "text/plain": [
       "17"
      ]
     },
     "execution_count": 2,
     "metadata": {},
     "output_type": "execute_result"
    }
   ],
   "source": [
    "# This is a simple arithmetic expression to multiply then add integers\n",
    "(3*4)+5\n"
   ]
  },
  {
   "cell_type": "code",
   "execution_count": 3,
   "id": "c4a35044-4026-495e-9979-9e64ef21d99c",
   "metadata": {},
   "outputs": [
    {
     "data": {
      "text/plain": [
       "3.3333333333333335"
      ]
     },
     "execution_count": 3,
     "metadata": {},
     "output_type": "execute_result"
    }
   ],
   "source": [
    "# This will convert 200 minutes to hours by dividing by 60\n",
    "200 / 60\n"
   ]
  },
  {
   "cell_type": "markdown",
   "id": "c5aba3ec-a7d8-4076-9d32-ede1eb9e5487",
   "metadata": {},
   "source": [
    "**Objectives:**\n",
    "\n",
    "- List popular languages for Data Science\n",
    "- Identify commonly used Data Science libraries\n",
    "- Understand the use of Jupyter Notebooks in Data Science workflows\n",
    "- Convert minutes into hours using Python\n",
    "- Create and format tables in Markdown\n"
   ]
  },
  {
   "cell_type": "markdown",
   "id": "bfc32f8f-7971-403e-86a0-29b7d8c027cf",
   "metadata": {},
   "source": [
    "## Author\n",
    "Anh Thu\n"
   ]
  },
  {
   "cell_type": "code",
   "execution_count": null,
   "id": "6363aa8c-dc54-4f15-814e-049057dfad82",
   "metadata": {},
   "outputs": [],
   "source": []
  }
 ],
 "metadata": {
  "kernelspec": {
   "display_name": "Python 3 (ipykernel)",
   "language": "python",
   "name": "python3"
  },
  "language_info": {
   "codemirror_mode": {
    "name": "ipython",
    "version": 3
   },
   "file_extension": ".py",
   "mimetype": "text/x-python",
   "name": "python",
   "nbconvert_exporter": "python",
   "pygments_lexer": "ipython3",
   "version": "3.11.7"
  }
 },
 "nbformat": 4,
 "nbformat_minor": 5
}
